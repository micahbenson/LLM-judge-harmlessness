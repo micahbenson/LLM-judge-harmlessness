{
 "cells": [
  {
   "cell_type": "code",
   "execution_count": 50,
   "metadata": {},
   "outputs": [
    {
     "name": "stdout",
     "output_type": "stream",
     "text": [
      "correct chosen first overall: 0.5344180225281602\n",
      "chosen first NA count: 47\n",
      "correct chosen first filtered: 0.5678191489361702\n",
      "correct rejected first overall: 0.6458072590738423\n",
      "rejected first NA count: 45\n",
      "correct rejected first filtered: 0.6843501326259946\n",
      "combined null: 0.10513141426783479\n",
      "------------------------------------\n",
      "correct: 0.42428035043804757\n",
      "incorrect: 0.1927409261576971\n",
      "tie 0.27784730913642053\n",
      "correct vs incorrect percent 0.6876267748478702\n"
     ]
    }
   ],
   "source": [
    "import pandas as pd \n",
    "import numpy as np\n",
    "\n",
    "chosen = pd.read_csv('./outputs/test_chosen_anthro.csv')\n",
    "\n",
    "chosen = chosen.map(lambda x: \"none\" if (np.sum((\"[[A]]\" in x) + (\"[[B]]\" in x)) > 1) else x)\n",
    "print(f'correct chosen first overall: {np.mean(chosen.map(lambda x: True if \"[[A]]\" in x else False))}') \n",
    "\n",
    "chosen = chosen.map(lambda x: x if \"[[A]]\" in x else x if \"[[B]]\"in x else pd.NA)\n",
    "print(f'chosen first NA count: {chosen.isnull().sum().sum()}')\n",
    "chosen_filtered = chosen.dropna(axis='index').reset_index(drop=True)\n",
    "\n",
    "print(f'correct chosen first filtered: {np.mean(chosen_filtered.map(lambda x: True if \"[[A]]\" in x else False))}')\n",
    "\n",
    "rejected = pd.read_csv('./outputs/test_rejected_anthro.csv')\n",
    "rejected = rejected.map(lambda x: \"none\" if (np.sum((\"[[A]]\" in x) + (\"[[B]]\" in x)) > 1) else x) \n",
    "print(f'correct rejected first overall: {np.mean(rejected.map(lambda x: True if \"[[B]]\" in x else False))}') \n",
    "\n",
    "rejected = rejected.map(lambda x: x if \"[[A]]\" in x else x if \"[[B]]\"in x else pd.NA)\n",
    "print(f'rejected first NA count: {rejected.isnull().sum().sum()}')\n",
    "\n",
    "rejected_filtered = rejected.dropna(axis='index').reset_index(drop=True)\n",
    "\n",
    "print(f'correct rejected first filtered: {np.mean(rejected_filtered.map(lambda x: True if \"[[B]]\" in x else False))}')\n",
    "\n",
    "rejected = rejected.map(lambda x: x if pd.isna(x) else 1 if \"[[B]]\" in x else 0)\n",
    "chosen = chosen.map(lambda x: x if pd.isna(x) else 1 if \"[[A]]\" in x else 0)\n",
    "\n",
    "array_full = pd.DataFrame(np.hstack((rejected.to_numpy(), chosen.to_numpy())))\n",
    "array = array_full.dropna(axis='index').to_numpy()\n",
    "print(f'combined null: {(len(array_full) - len(array)) / len(array_full)}')\n",
    "\n",
    "print(\"------------\"*3)\n",
    "correct = np.sum((array[:, 0] == 1) & (array[:, 1] == 1)) / len(array_full)\n",
    "incorrect = np.sum((array[:, 0] == 0) & (array[:, 1] == 0)) / len(array_full)\n",
    "tie = np.sum((array[:, 0] != array[:, 1])) / len(array_full)\n",
    "\n",
    "\n",
    "\n",
    "print(f'correct: {correct}')\n",
    "print(f'incorrect: {incorrect}')\n",
    "print(f'tie {tie}')\n",
    "\n",
    "print(f'correct vs incorrect percent {correct / (correct + incorrect)}')"
   ]
  },
  {
   "cell_type": "code",
   "execution_count": 49,
   "metadata": {},
   "outputs": [
    {
     "name": "stdout",
     "output_type": "stream",
     "text": [
      "correct chosen first overall: 0.7544426494345718\n",
      "chosen first NA: 0.027463651050080775\n",
      "correct chosen first filtered: 0.7757475083056479\n",
      "correct rejected first overall: 0.8384491114701131\n",
      "rejected first NA: 0.029079159935379646\n",
      "correct rejected first filtered: 0.8635607321131448\n",
      "combined null: 0.033925686591276254\n",
      "------------------------------------\n",
      "correct: 0.691437802907916\n",
      "incorrect: 0.07431340872374798\n",
      "tie 0.20032310177705978\n",
      "correct vs incorrect percent 0.9029535864978903\n"
     ]
    }
   ],
   "source": [
    "import pandas as pd \n",
    "import numpy as np\n",
    "\n",
    "chosen = pd.read_csv('./outputs/final_choice_civil_lose.csv')\n",
    "\n",
    "chosen = chosen.map(lambda x: \"none\" if (np.sum((\"[[A]]\" in x) + (\"[[B]]\" in x)) > 1) else x)\n",
    "print(f'correct chosen first overall: {np.mean(chosen.map(lambda x: True if \"[[A]]\" in x else False))}') \n",
    "\n",
    "chosen = chosen.map(lambda x: x if \"[[A]]\" in x else x if \"[[B]]\"in x else pd.NA)\n",
    "print(f'chosen first NA: {chosen.isnull().sum().sum() / len(chosen)}')\n",
    "chosen_filtered = chosen.dropna(axis='index').reset_index(drop=True)\n",
    "\n",
    "print(f'correct chosen first filtered: {np.mean(chosen_filtered.map(lambda x: True if \"[[A]]\" in x else False))}')\n",
    "\n",
    "rejected = pd.read_csv('./outputs/final_choice_civil_win.csv')\n",
    "rejected = rejected.map(lambda x: \"none\" if (np.sum((\"[[A]]\" in x) + (\"[[B]]\" in x)) > 1) else x) \n",
    "print(f'correct rejected first overall: {np.mean(rejected.map(lambda x: True if \"[[B]]\" in x else False))}') \n",
    "\n",
    "rejected = rejected.map(lambda x: x if \"[[A]]\" in x else x if \"[[B]]\"in x else pd.NA)\n",
    "print(f'rejected first NA: {rejected.isnull().sum().sum() / len(rejected)}')\n",
    "\n",
    "rejected_filtered = rejected.dropna(axis='index').reset_index(drop=True)\n",
    "\n",
    "print(f'correct rejected first filtered: {np.mean(rejected_filtered.map(lambda x: True if \"[[B]]\" in x else False))}')\n",
    "\n",
    "rejected = rejected.map(lambda x: x if pd.isna(x) else 1 if \"[[B]]\" in x else 0)\n",
    "chosen = chosen.map(lambda x: x if pd.isna(x) else 1 if \"[[A]]\" in x else 0)\n",
    "\n",
    "array_full = pd.DataFrame(np.hstack((rejected.to_numpy(), chosen.to_numpy())))\n",
    "array = array_full.dropna(axis='index').to_numpy()\n",
    "print(f'combined null: {(len(array_full) - len(array)) / len(array_full)}')\n",
    "\n",
    "print(\"------------\"*3)\n",
    "correct = np.sum((array[:, 0] == 1) & (array[:, 1] == 1)) / len(array_full)\n",
    "incorrect = np.sum((array[:, 0] == 0) & (array[:, 1] == 0)) / len(array_full)\n",
    "tie = np.sum((array[:, 0] != array[:, 1])) / len(array_full)\n",
    "\n",
    "\n",
    "print(f'correct: {correct}')\n",
    "print(f'incorrect: {incorrect}')\n",
    "print(f'tie {tie}')\n",
    "\n",
    "print(f'correct vs incorrect percent {correct / (correct + incorrect)}')"
   ]
  },
  {
   "cell_type": "code",
   "execution_count": 62,
   "metadata": {},
   "outputs": [
    {
     "name": "stdout",
     "output_type": "stream",
     "text": [
      "win NA count: 12\n",
      "lose NA count: 7\n",
      "combined null: 0.030694668820678513\n",
      "correct: 0.5379644588045234\n",
      "ties: 0.32794830371567046\n",
      "wrong: 0.10339256865912763\n",
      "4 ties: 0.2924071082390953\n",
      "correct vs wrong: 0.8387909319899244\n"
     ]
    }
   ],
   "source": [
    "win = pd.read_csv('./outputs/final_rank_civil_win_first.csv')\n",
    "win = win.map(lambda x: \"none\" if (np.sum((\"[[0]]\" in x) + (\"[[1]]\" in x)+ (\"[[2]]\" in x) + (\"[[3]]\" in x) + (\"[[4]]\" in x)) > 1) else x) \n",
    "win = win.map(lambda x: 0 if \"[[0]]\" in x else 1 if \"[[1]]\"in x else 2 if \"[[2]]\" in x else 3 if \"[[3]]\" in x else 4 if \"[[4]]\" in x else pd.NA)\n",
    "print(f'win NA count: {win.isnull().sum().sum()}')\n",
    "\n",
    "\n",
    "lose = pd.read_csv('./outputs/final_rank_civil_lose_first.csv')\n",
    "lose = lose.map(lambda x: \"none\" if (np.sum((\"[[0]]\" in x) + (\"[[1]]\" in x)+ (\"[[2]]\" in x) + (\"[[3]]\" in x) + (\"[[4]]\" in x)) > 1) else x) \n",
    "lose = lose.map(lambda x: 0 if \"[[0]]\" in x else 1 if \"[[1]]\"in x else 2 if \"[[2]]\" in x else 3 if \"[[3]]\" in x else 4 if \"[[4]]\" in x else pd.NA)\n",
    "print(f'lose NA count: {lose.isnull().sum().sum()}')\n",
    "\n",
    "array_full = pd.DataFrame(np.hstack((win.to_numpy(), lose.to_numpy())))\n",
    "array = array_full.dropna(axis='index').to_numpy()\n",
    "print(f'combined null: {(len(array_full) - len(array)) / len(array_full)}')\n",
    "\n",
    "print(f'correct: {np.sum(array[:, 0] > array[:, 1]) / len(array_full)}')\n",
    "print(f'ties: {np.sum(array[:, 0] == array[:, 1]) / len(array_full)}')\n",
    "print(f'wrong: {np.sum(array[:, 0] < array[:, 1]) / len(array_full)}')\n",
    "\n",
    "print(f'4 ties: {(np.sum((array[:, 0] == 4) & (array[:, 1]==4)) / len(array_full))}')\n",
    "\n",
    "\n",
    "print(f'correct vs wrong: {np.mean(array[:, 0] > array[:, 1]) / (np.mean(array[:, 0] > array[:, 1]) + np.mean(array[:, 0] < array[:, 1]))}')"
   ]
  },
  {
   "cell_type": "code",
   "execution_count": 67,
   "metadata": {},
   "outputs": [
    {
     "name": "stdout",
     "output_type": "stream",
     "text": [
      "win NA count: 113\n",
      "lose NA count: 104\n",
      "combined null: 0.2390488110137672\n",
      "correct: 0.2453066332916145\n",
      "ties: 0.40801001251564456\n",
      "wrong: 0.10763454317897372\n",
      "4 ties: 0.2690863579474343\n",
      "correct vs wrong: 0.6950354609929078\n"
     ]
    }
   ],
   "source": [
    "win = pd.read_csv('./outputs/rank_anthro_win.csv')\n",
    "win = win.map(lambda x: \"none\" if (np.sum((\"[[0]]\" in x) + (\"[[1]]\" in x)+ (\"[[2]]\" in x) + (\"[[3]]\" in x) + (\"[[4]]\" in x)) > 1) else x) \n",
    "win = win.map(lambda x: 0 if \"[[0]]\" in x else 1 if \"[[1]]\"in x else 2 if \"[[2]]\" in x else 3 if \"[[3]]\" in x else 4 if \"[[4]]\" in x else pd.NA)\n",
    "print(f'win NA count: {win.isnull().sum().sum()}')\n",
    "\n",
    "lose = pd.read_csv('./outputs/rank_anthro_lose.csv')\n",
    "lose = lose.map(lambda x: \"none\" if (np.sum((\"[[0]]\" in x) + (\"[[1]]\" in x)+ (\"[[2]]\" in x) + (\"[[3]]\" in x) + (\"[[4]]\" in x)) > 1) else x) \n",
    "lose = lose.map(lambda x: 0 if \"[[0]]\" in x else 1 if \"[[1]]\"in x else 2 if \"[[2]]\" in x else 3 if \"[[3]]\" in x else 4 if \"[[4]]\" in x else pd.NA)\n",
    "print(f'lose NA count: {lose.isnull().sum().sum()}')\n",
    "\n",
    "array_full = pd.DataFrame(np.hstack((win.to_numpy(), lose.to_numpy())))\n",
    "array = array_full.dropna(axis='index').to_numpy()\n",
    "print(f'combined null: {(len(array_full) - len(array)) / len(array_full)}')\n",
    "\n",
    "print(f'correct: {np.sum(array[:, 0] > array[:, 1]) / len(array_full)}')\n",
    "print(f'ties: {np.sum(array[:, 0] == array[:, 1]) / len(array_full)}')\n",
    "print(f'wrong: {np.sum(array[:, 0] < array[:, 1]) / len(array_full)}')\n",
    "\n",
    "print(f'4 ties: {(np.sum((array[:, 0] == 0) & (array[:, 1]==0)) / len(array_full))}')\n",
    "\n",
    "\n",
    "print(f'correct vs wrong: {np.mean(array[:, 0] > array[:, 1]) / (np.mean(array[:, 0] > array[:, 1]) + np.mean(array[:, 0] < array[:, 1]))}')"
   ]
  }
 ],
 "metadata": {
  "kernelspec": {
   "display_name": "myenv",
   "language": "python",
   "name": "python3"
  },
  "language_info": {
   "codemirror_mode": {
    "name": "ipython",
    "version": 3
   },
   "file_extension": ".py",
   "mimetype": "text/x-python",
   "name": "python",
   "nbconvert_exporter": "python",
   "pygments_lexer": "ipython3",
   "version": "3.11.5"
  },
  "orig_nbformat": 4,
  "vscode": {
   "interpreter": {
    "hash": "ccce212e1a604565650425dbcb9c645218f05d51f727f58bacdade06ace0e380"
   }
  }
 },
 "nbformat": 4,
 "nbformat_minor": 2
}
